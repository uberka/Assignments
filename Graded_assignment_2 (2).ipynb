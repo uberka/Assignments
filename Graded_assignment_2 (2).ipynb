{
 "cells": [
  {
   "cell_type": "markdown",
   "metadata": {},
   "source": [
    "# Graded Assignment 2\n",
    "Mark Klik & Misja Mikkers\n",
    "\n",
    "# Packages\n",
    "\n",
    "# Assignment 1\n",
    "\n",
    "First load the `tidyverse` package:"
   ]
  },
  {
   "cell_type": "code",
   "execution_count": 91,
   "metadata": {},
   "outputs": [
    {
     "name": "stderr",
     "output_type": "stream",
     "text": [
      "Warning message:\n",
      "\"package 'dplyr' is in use and will not be installed\""
     ]
    }
   ],
   "source": [
    "library(tidyverse)\n",
    "install.packages('dplyr')\n",
    "library('dplyr')"
   ]
  },
  {
   "cell_type": "markdown",
   "metadata": {},
   "source": [
    "##  Assignment 1a\n",
    "\n",
    "Read the data file _graded_assignment_2.csv_ from disk:"
   ]
  },
  {
   "cell_type": "code",
   "execution_count": 92,
   "metadata": {},
   "outputs": [
    {
     "data": {
      "text/html": [
       "<table>\n",
       "<thead><tr><th scope=col>ID</th><th scope=col>Group</th><th scope=col>FKG</th><th scope=col>DKG</th><th scope=col>Gender</th><th scope=col>Elderly</th><th scope=col>Age</th></tr></thead>\n",
       "<tbody>\n",
       "\t<tr><td>1     </td><td>17    </td><td>0     </td><td>0     </td><td>male  </td><td>65+   </td><td>80-84 </td></tr>\n",
       "\t<tr><td>2     </td><td>34    </td><td>0     </td><td>0     </td><td>female</td><td>65+   </td><td>65-69 </td></tr>\n",
       "\t<tr><td>3     </td><td>31    </td><td>1     </td><td>0     </td><td>female</td><td>65-   </td><td>50-54 </td></tr>\n",
       "\t<tr><td>4     </td><td>22    </td><td>1     </td><td>0     </td><td>female</td><td>65-   </td><td>5-9   </td></tr>\n",
       "\t<tr><td>5     </td><td>35    </td><td>0     </td><td>0     </td><td>female</td><td>65+   </td><td>70-74 </td></tr>\n",
       "\t<tr><td>6     </td><td>19    </td><td>1     </td><td>1     </td><td>male  </td><td>65+   </td><td>90-94 </td></tr>\n",
       "</tbody>\n",
       "</table>\n"
      ],
      "text/latex": [
       "\\begin{tabular}{r|lllllll}\n",
       " ID & Group & FKG & DKG & Gender & Elderly & Age\\\\\n",
       "\\hline\n",
       "\t 1      & 17     & 0      & 0      & male   & 65+    & 80-84 \\\\\n",
       "\t 2      & 34     & 0      & 0      & female & 65+    & 65-69 \\\\\n",
       "\t 3      & 31     & 1      & 0      & female & 65-    & 50-54 \\\\\n",
       "\t 4      & 22     & 1      & 0      & female & 65-    & 5-9   \\\\\n",
       "\t 5      & 35     & 0      & 0      & female & 65+    & 70-74 \\\\\n",
       "\t 6      & 19     & 1      & 1      & male   & 65+    & 90-94 \\\\\n",
       "\\end{tabular}\n"
      ],
      "text/markdown": [
       "\n",
       "ID | Group | FKG | DKG | Gender | Elderly | Age | \n",
       "|---|---|---|---|---|---|\n",
       "| 1      | 17     | 0      | 0      | male   | 65+    | 80-84  | \n",
       "| 2      | 34     | 0      | 0      | female | 65+    | 65-69  | \n",
       "| 3      | 31     | 1      | 0      | female | 65-    | 50-54  | \n",
       "| 4      | 22     | 1      | 0      | female | 65-    | 5-9    | \n",
       "| 5      | 35     | 0      | 0      | female | 65+    | 70-74  | \n",
       "| 6      | 19     | 1      | 1      | male   | 65+    | 90-94  | \n",
       "\n",
       "\n"
      ],
      "text/plain": [
       "  ID Group FKG DKG Gender Elderly Age  \n",
       "1 1  17    0   0   male   65+     80-84\n",
       "2 2  34    0   0   female 65+     65-69\n",
       "3 3  31    1   0   female 65-     50-54\n",
       "4 4  22    1   0   female 65-     5-9  \n",
       "5 5  35    0   0   female 65+     70-74\n",
       "6 6  19    1   1   male   65+     90-94"
      ]
     },
     "metadata": {},
     "output_type": "display_data"
    }
   ],
   "source": [
    "data1 <- read.csv2(\"../Downloads/graded_assignment_2.csv\")\n",
    "head(data1)"
   ]
  },
  {
   "cell_type": "markdown",
   "metadata": {},
   "source": [
    "## Assignment 1b\n",
    "\n",
    "Add column \"Health_status\" with containing values _1_ (Healthy) and _0_ (Unhealthy).\n",
    "A person is Healthy, when `FKG` equals 0 and `DKG` equals 0.\n",
    "\n",
    "So\n",
    "\n",
    "| FKG | DKG | Health_status   |\n",
    "|-----|-----|--------------   |\n",
    "| 0   | 0   | 1               |\n",
    "| 1   | 0   | 0               |\n",
    "| 0   | 1   | 0               |\n",
    "| 1   | 1   | 0               |\n",
    "\n",
    "Hint: you can use `ifelse()`:"
   ]
  },
  {
   "cell_type": "code",
   "execution_count": 93,
   "metadata": {},
   "outputs": [
    {
     "data": {
      "text/html": [
       "<table>\n",
       "<thead><tr><th scope=col>ID</th><th scope=col>Group</th><th scope=col>FKG</th><th scope=col>DKG</th><th scope=col>Gender</th><th scope=col>Elderly</th><th scope=col>Age</th><th scope=col>Health_status</th></tr></thead>\n",
       "<tbody>\n",
       "\t<tr><td> 1    </td><td>17    </td><td>0     </td><td>0     </td><td>male  </td><td>65+   </td><td>80-84 </td><td>0     </td></tr>\n",
       "\t<tr><td> 2    </td><td>34    </td><td>0     </td><td>0     </td><td>female</td><td>65+   </td><td>65-69 </td><td>0     </td></tr>\n",
       "\t<tr><td> 3    </td><td>31    </td><td>1     </td><td>0     </td><td>female</td><td>65-   </td><td>50-54 </td><td>1     </td></tr>\n",
       "\t<tr><td> 4    </td><td>22    </td><td>1     </td><td>0     </td><td>female</td><td>65-   </td><td>5-9   </td><td>1     </td></tr>\n",
       "\t<tr><td> 5    </td><td>35    </td><td>0     </td><td>0     </td><td>female</td><td>65+   </td><td>70-74 </td><td>0     </td></tr>\n",
       "\t<tr><td> 6    </td><td>19    </td><td>1     </td><td>1     </td><td>male  </td><td>65+   </td><td>90-94 </td><td>1     </td></tr>\n",
       "\t<tr><td> 7    </td><td> 1    </td><td>0     </td><td>1     </td><td>male  </td><td>65-   </td><td>0-4   </td><td>1     </td></tr>\n",
       "\t<tr><td> 8    </td><td>30    </td><td>1     </td><td>1     </td><td>female</td><td>65-   </td><td>45-49 </td><td>1     </td></tr>\n",
       "\t<tr><td> 9    </td><td>29    </td><td>0     </td><td>0     </td><td>female</td><td>65-   </td><td>40-44 </td><td>0     </td></tr>\n",
       "\t<tr><td>10    </td><td> 8    </td><td>1     </td><td>1     </td><td>male  </td><td>65-   </td><td>35-39 </td><td>1     </td></tr>\n",
       "\t<tr><td>11    </td><td>26    </td><td>0     </td><td>1     </td><td>female</td><td>65-   </td><td>25-29 </td><td>1     </td></tr>\n",
       "\t<tr><td>12    </td><td>22    </td><td>0     </td><td>0     </td><td>female</td><td>65-   </td><td>5-9   </td><td>0     </td></tr>\n",
       "\t<tr><td>13    </td><td>14    </td><td>1     </td><td>0     </td><td>male  </td><td>65+   </td><td>65-69 </td><td>1     </td></tr>\n",
       "\t<tr><td>14    </td><td>26    </td><td>0     </td><td>0     </td><td>female</td><td>65-   </td><td>25-29 </td><td>0     </td></tr>\n",
       "\t<tr><td>15    </td><td>34    </td><td>0     </td><td>0     </td><td>female</td><td>65+   </td><td>65-69 </td><td>0     </td></tr>\n",
       "\t<tr><td>16    </td><td>29    </td><td>1     </td><td>1     </td><td>female</td><td>65-   </td><td>40-44 </td><td>1     </td></tr>\n",
       "\t<tr><td>17    </td><td>14    </td><td>1     </td><td>1     </td><td>male  </td><td>65+   </td><td>65-69 </td><td>1     </td></tr>\n",
       "\t<tr><td>18    </td><td> 6    </td><td>1     </td><td>0     </td><td>male  </td><td>65-   </td><td>25-29 </td><td>1     </td></tr>\n",
       "\t<tr><td>19    </td><td>16    </td><td>1     </td><td>1     </td><td>male  </td><td>65+   </td><td>75-79 </td><td>1     </td></tr>\n",
       "\t<tr><td>20    </td><td>38    </td><td>1     </td><td>1     </td><td>female</td><td>65+   </td><td>85-89 </td><td>1     </td></tr>\n",
       "\t<tr><td>21    </td><td>33    </td><td>1     </td><td>1     </td><td>female</td><td>65-   </td><td>60-64 </td><td>1     </td></tr>\n",
       "\t<tr><td>22    </td><td>31    </td><td>0     </td><td>1     </td><td>female</td><td>65-   </td><td>50-54 </td><td>1     </td></tr>\n",
       "\t<tr><td>23    </td><td>39    </td><td>1     </td><td>1     </td><td>female</td><td>65+   </td><td>90-94 </td><td>1     </td></tr>\n",
       "\t<tr><td>24    </td><td>40    </td><td>0     </td><td>0     </td><td>female</td><td>65+   </td><td>95-99 </td><td>0     </td></tr>\n",
       "\t<tr><td>25    </td><td>25    </td><td>0     </td><td>0     </td><td>female</td><td>65-   </td><td>20-24 </td><td>0     </td></tr>\n",
       "\t<tr><td>26    </td><td> 2    </td><td>1     </td><td>1     </td><td>male  </td><td>65-   </td><td>5-9   </td><td>1     </td></tr>\n",
       "\t<tr><td>27    </td><td>14    </td><td>0     </td><td>0     </td><td>male  </td><td>65+   </td><td>65-69 </td><td>0     </td></tr>\n",
       "\t<tr><td>28    </td><td>12    </td><td>1     </td><td>1     </td><td>male  </td><td>65-   </td><td>55-59 </td><td>1     </td></tr>\n",
       "\t<tr><td>29    </td><td> 5    </td><td>0     </td><td>0     </td><td>male  </td><td>65-   </td><td>20-24 </td><td>0     </td></tr>\n",
       "\t<tr><td>30    </td><td> 2    </td><td>1     </td><td>1     </td><td>male  </td><td>65-   </td><td>5-9   </td><td>1     </td></tr>\n",
       "\t<tr><td>...</td><td>...</td><td>...</td><td>...</td><td>...</td><td>...</td><td>...</td><td>...</td></tr>\n",
       "\t<tr><td> 9971 </td><td>10    </td><td>0     </td><td>1     </td><td>male  </td><td>65-   </td><td>45-49 </td><td>1     </td></tr>\n",
       "\t<tr><td> 9972 </td><td>22    </td><td>1     </td><td>1     </td><td>female</td><td>65-   </td><td>5-9   </td><td>1     </td></tr>\n",
       "\t<tr><td> 9973 </td><td>14    </td><td>1     </td><td>0     </td><td>male  </td><td>65+   </td><td>65-69 </td><td>1     </td></tr>\n",
       "\t<tr><td> 9974 </td><td>34    </td><td>1     </td><td>1     </td><td>female</td><td>65+   </td><td>65-69 </td><td>1     </td></tr>\n",
       "\t<tr><td> 9975 </td><td>23    </td><td>0     </td><td>0     </td><td>female</td><td>65-   </td><td>10-14 </td><td>0     </td></tr>\n",
       "\t<tr><td> 9976 </td><td>35    </td><td>1     </td><td>1     </td><td>female</td><td>65+   </td><td>70-74 </td><td>1     </td></tr>\n",
       "\t<tr><td> 9977 </td><td>40    </td><td>1     </td><td>1     </td><td>female</td><td>65+   </td><td>95-99 </td><td>1     </td></tr>\n",
       "\t<tr><td> 9978 </td><td>21    </td><td>1     </td><td>0     </td><td>female</td><td>65-   </td><td>0-4   </td><td>1     </td></tr>\n",
       "\t<tr><td> 9979 </td><td>19    </td><td>1     </td><td>0     </td><td>male  </td><td>65+   </td><td>90-94 </td><td>1     </td></tr>\n",
       "\t<tr><td> 9980 </td><td> 5    </td><td>1     </td><td>1     </td><td>male  </td><td>65-   </td><td>20-24 </td><td>1     </td></tr>\n",
       "\t<tr><td> 9981 </td><td> 3    </td><td>0     </td><td>1     </td><td>male  </td><td>65-   </td><td>10-14 </td><td>1     </td></tr>\n",
       "\t<tr><td> 9982 </td><td>40    </td><td>0     </td><td>0     </td><td>female</td><td>65+   </td><td>95-99 </td><td>0     </td></tr>\n",
       "\t<tr><td> 9983 </td><td>30    </td><td>0     </td><td>1     </td><td>female</td><td>65-   </td><td>45-49 </td><td>1     </td></tr>\n",
       "\t<tr><td> 9984 </td><td>33    </td><td>1     </td><td>1     </td><td>female</td><td>65-   </td><td>60-64 </td><td>1     </td></tr>\n",
       "\t<tr><td> 9985 </td><td>33    </td><td>0     </td><td>0     </td><td>female</td><td>65-   </td><td>60-64 </td><td>0     </td></tr>\n",
       "\t<tr><td> 9986 </td><td>24    </td><td>1     </td><td>1     </td><td>female</td><td>65-   </td><td>15-19 </td><td>1     </td></tr>\n",
       "\t<tr><td> 9987 </td><td>34    </td><td>1     </td><td>1     </td><td>female</td><td>65+   </td><td>65-69 </td><td>1     </td></tr>\n",
       "\t<tr><td> 9988 </td><td>25    </td><td>0     </td><td>1     </td><td>female</td><td>65-   </td><td>20-24 </td><td>1     </td></tr>\n",
       "\t<tr><td> 9989 </td><td> 9    </td><td>0     </td><td>0     </td><td>male  </td><td>65-   </td><td>40-44 </td><td>0     </td></tr>\n",
       "\t<tr><td> 9990 </td><td> 8    </td><td>1     </td><td>1     </td><td>male  </td><td>65-   </td><td>35-39 </td><td>1     </td></tr>\n",
       "\t<tr><td> 9991 </td><td>11    </td><td>1     </td><td>1     </td><td>male  </td><td>65-   </td><td>50-54 </td><td>1     </td></tr>\n",
       "\t<tr><td> 9992 </td><td>22    </td><td>1     </td><td>0     </td><td>female</td><td>65-   </td><td>5-9   </td><td>1     </td></tr>\n",
       "\t<tr><td> 9993 </td><td> 9    </td><td>0     </td><td>1     </td><td>male  </td><td>65-   </td><td>40-44 </td><td>1     </td></tr>\n",
       "\t<tr><td> 9994 </td><td>19    </td><td>0     </td><td>0     </td><td>male  </td><td>65+   </td><td>90-94 </td><td>0     </td></tr>\n",
       "\t<tr><td> 9995 </td><td> 4    </td><td>1     </td><td>1     </td><td>male  </td><td>65-   </td><td>15-19 </td><td>1     </td></tr>\n",
       "\t<tr><td> 9996 </td><td>27    </td><td>1     </td><td>1     </td><td>female</td><td>65-   </td><td>30-34 </td><td>1     </td></tr>\n",
       "\t<tr><td> 9997 </td><td>27    </td><td>1     </td><td>1     </td><td>female</td><td>65-   </td><td>30-34 </td><td>1     </td></tr>\n",
       "\t<tr><td> 9998 </td><td>37    </td><td>1     </td><td>1     </td><td>female</td><td>65+   </td><td>80-84 </td><td>1     </td></tr>\n",
       "\t<tr><td> 9999 </td><td>24    </td><td>0     </td><td>0     </td><td>female</td><td>65-   </td><td>15-19 </td><td>0     </td></tr>\n",
       "\t<tr><td>10000 </td><td>29    </td><td>1     </td><td>0     </td><td>female</td><td>65-   </td><td>40-44 </td><td>1     </td></tr>\n",
       "</tbody>\n",
       "</table>\n"
      ],
      "text/latex": [
       "\\begin{tabular}{r|llllllll}\n",
       " ID & Group & FKG & DKG & Gender & Elderly & Age & Health\\_status\\\\\n",
       "\\hline\n",
       "\t  1     & 17     & 0      & 0      & male   & 65+    & 80-84  & 0     \\\\\n",
       "\t  2     & 34     & 0      & 0      & female & 65+    & 65-69  & 0     \\\\\n",
       "\t  3     & 31     & 1      & 0      & female & 65-    & 50-54  & 1     \\\\\n",
       "\t  4     & 22     & 1      & 0      & female & 65-    & 5-9    & 1     \\\\\n",
       "\t  5     & 35     & 0      & 0      & female & 65+    & 70-74  & 0     \\\\\n",
       "\t  6     & 19     & 1      & 1      & male   & 65+    & 90-94  & 1     \\\\\n",
       "\t  7     &  1     & 0      & 1      & male   & 65-    & 0-4    & 1     \\\\\n",
       "\t  8     & 30     & 1      & 1      & female & 65-    & 45-49  & 1     \\\\\n",
       "\t  9     & 29     & 0      & 0      & female & 65-    & 40-44  & 0     \\\\\n",
       "\t 10     &  8     & 1      & 1      & male   & 65-    & 35-39  & 1     \\\\\n",
       "\t 11     & 26     & 0      & 1      & female & 65-    & 25-29  & 1     \\\\\n",
       "\t 12     & 22     & 0      & 0      & female & 65-    & 5-9    & 0     \\\\\n",
       "\t 13     & 14     & 1      & 0      & male   & 65+    & 65-69  & 1     \\\\\n",
       "\t 14     & 26     & 0      & 0      & female & 65-    & 25-29  & 0     \\\\\n",
       "\t 15     & 34     & 0      & 0      & female & 65+    & 65-69  & 0     \\\\\n",
       "\t 16     & 29     & 1      & 1      & female & 65-    & 40-44  & 1     \\\\\n",
       "\t 17     & 14     & 1      & 1      & male   & 65+    & 65-69  & 1     \\\\\n",
       "\t 18     &  6     & 1      & 0      & male   & 65-    & 25-29  & 1     \\\\\n",
       "\t 19     & 16     & 1      & 1      & male   & 65+    & 75-79  & 1     \\\\\n",
       "\t 20     & 38     & 1      & 1      & female & 65+    & 85-89  & 1     \\\\\n",
       "\t 21     & 33     & 1      & 1      & female & 65-    & 60-64  & 1     \\\\\n",
       "\t 22     & 31     & 0      & 1      & female & 65-    & 50-54  & 1     \\\\\n",
       "\t 23     & 39     & 1      & 1      & female & 65+    & 90-94  & 1     \\\\\n",
       "\t 24     & 40     & 0      & 0      & female & 65+    & 95-99  & 0     \\\\\n",
       "\t 25     & 25     & 0      & 0      & female & 65-    & 20-24  & 0     \\\\\n",
       "\t 26     &  2     & 1      & 1      & male   & 65-    & 5-9    & 1     \\\\\n",
       "\t 27     & 14     & 0      & 0      & male   & 65+    & 65-69  & 0     \\\\\n",
       "\t 28     & 12     & 1      & 1      & male   & 65-    & 55-59  & 1     \\\\\n",
       "\t 29     &  5     & 0      & 0      & male   & 65-    & 20-24  & 0     \\\\\n",
       "\t 30     &  2     & 1      & 1      & male   & 65-    & 5-9    & 1     \\\\\n",
       "\t ... & ... & ... & ... & ... & ... & ... & ...\\\\\n",
       "\t  9971  & 10     & 0      & 1      & male   & 65-    & 45-49  & 1     \\\\\n",
       "\t  9972  & 22     & 1      & 1      & female & 65-    & 5-9    & 1     \\\\\n",
       "\t  9973  & 14     & 1      & 0      & male   & 65+    & 65-69  & 1     \\\\\n",
       "\t  9974  & 34     & 1      & 1      & female & 65+    & 65-69  & 1     \\\\\n",
       "\t  9975  & 23     & 0      & 0      & female & 65-    & 10-14  & 0     \\\\\n",
       "\t  9976  & 35     & 1      & 1      & female & 65+    & 70-74  & 1     \\\\\n",
       "\t  9977  & 40     & 1      & 1      & female & 65+    & 95-99  & 1     \\\\\n",
       "\t  9978  & 21     & 1      & 0      & female & 65-    & 0-4    & 1     \\\\\n",
       "\t  9979  & 19     & 1      & 0      & male   & 65+    & 90-94  & 1     \\\\\n",
       "\t  9980  &  5     & 1      & 1      & male   & 65-    & 20-24  & 1     \\\\\n",
       "\t  9981  &  3     & 0      & 1      & male   & 65-    & 10-14  & 1     \\\\\n",
       "\t  9982  & 40     & 0      & 0      & female & 65+    & 95-99  & 0     \\\\\n",
       "\t  9983  & 30     & 0      & 1      & female & 65-    & 45-49  & 1     \\\\\n",
       "\t  9984  & 33     & 1      & 1      & female & 65-    & 60-64  & 1     \\\\\n",
       "\t  9985  & 33     & 0      & 0      & female & 65-    & 60-64  & 0     \\\\\n",
       "\t  9986  & 24     & 1      & 1      & female & 65-    & 15-19  & 1     \\\\\n",
       "\t  9987  & 34     & 1      & 1      & female & 65+    & 65-69  & 1     \\\\\n",
       "\t  9988  & 25     & 0      & 1      & female & 65-    & 20-24  & 1     \\\\\n",
       "\t  9989  &  9     & 0      & 0      & male   & 65-    & 40-44  & 0     \\\\\n",
       "\t  9990  &  8     & 1      & 1      & male   & 65-    & 35-39  & 1     \\\\\n",
       "\t  9991  & 11     & 1      & 1      & male   & 65-    & 50-54  & 1     \\\\\n",
       "\t  9992  & 22     & 1      & 0      & female & 65-    & 5-9    & 1     \\\\\n",
       "\t  9993  &  9     & 0      & 1      & male   & 65-    & 40-44  & 1     \\\\\n",
       "\t  9994  & 19     & 0      & 0      & male   & 65+    & 90-94  & 0     \\\\\n",
       "\t  9995  &  4     & 1      & 1      & male   & 65-    & 15-19  & 1     \\\\\n",
       "\t  9996  & 27     & 1      & 1      & female & 65-    & 30-34  & 1     \\\\\n",
       "\t  9997  & 27     & 1      & 1      & female & 65-    & 30-34  & 1     \\\\\n",
       "\t  9998  & 37     & 1      & 1      & female & 65+    & 80-84  & 1     \\\\\n",
       "\t  9999  & 24     & 0      & 0      & female & 65-    & 15-19  & 0     \\\\\n",
       "\t 10000  & 29     & 1      & 0      & female & 65-    & 40-44  & 1     \\\\\n",
       "\\end{tabular}\n"
      ],
      "text/markdown": [
       "\n",
       "ID | Group | FKG | DKG | Gender | Elderly | Age | Health_status | \n",
       "|---|---|---|---|---|---|---|---|---|---|---|---|---|---|---|---|---|---|---|---|---|---|---|---|---|---|---|---|---|---|---|---|---|---|---|---|---|---|---|---|---|---|---|---|---|---|---|---|---|---|---|---|---|---|---|---|---|---|---|---|---|\n",
       "|  1     | 17     | 0      | 0      | male   | 65+    | 80-84  | 0      | \n",
       "|  2     | 34     | 0      | 0      | female | 65+    | 65-69  | 0      | \n",
       "|  3     | 31     | 1      | 0      | female | 65-    | 50-54  | 1      | \n",
       "|  4     | 22     | 1      | 0      | female | 65-    | 5-9    | 1      | \n",
       "|  5     | 35     | 0      | 0      | female | 65+    | 70-74  | 0      | \n",
       "|  6     | 19     | 1      | 1      | male   | 65+    | 90-94  | 1      | \n",
       "|  7     |  1     | 0      | 1      | male   | 65-    | 0-4    | 1      | \n",
       "|  8     | 30     | 1      | 1      | female | 65-    | 45-49  | 1      | \n",
       "|  9     | 29     | 0      | 0      | female | 65-    | 40-44  | 0      | \n",
       "| 10     |  8     | 1      | 1      | male   | 65-    | 35-39  | 1      | \n",
       "| 11     | 26     | 0      | 1      | female | 65-    | 25-29  | 1      | \n",
       "| 12     | 22     | 0      | 0      | female | 65-    | 5-9    | 0      | \n",
       "| 13     | 14     | 1      | 0      | male   | 65+    | 65-69  | 1      | \n",
       "| 14     | 26     | 0      | 0      | female | 65-    | 25-29  | 0      | \n",
       "| 15     | 34     | 0      | 0      | female | 65+    | 65-69  | 0      | \n",
       "| 16     | 29     | 1      | 1      | female | 65-    | 40-44  | 1      | \n",
       "| 17     | 14     | 1      | 1      | male   | 65+    | 65-69  | 1      | \n",
       "| 18     |  6     | 1      | 0      | male   | 65-    | 25-29  | 1      | \n",
       "| 19     | 16     | 1      | 1      | male   | 65+    | 75-79  | 1      | \n",
       "| 20     | 38     | 1      | 1      | female | 65+    | 85-89  | 1      | \n",
       "| 21     | 33     | 1      | 1      | female | 65-    | 60-64  | 1      | \n",
       "| 22     | 31     | 0      | 1      | female | 65-    | 50-54  | 1      | \n",
       "| 23     | 39     | 1      | 1      | female | 65+    | 90-94  | 1      | \n",
       "| 24     | 40     | 0      | 0      | female | 65+    | 95-99  | 0      | \n",
       "| 25     | 25     | 0      | 0      | female | 65-    | 20-24  | 0      | \n",
       "| 26     |  2     | 1      | 1      | male   | 65-    | 5-9    | 1      | \n",
       "| 27     | 14     | 0      | 0      | male   | 65+    | 65-69  | 0      | \n",
       "| 28     | 12     | 1      | 1      | male   | 65-    | 55-59  | 1      | \n",
       "| 29     |  5     | 0      | 0      | male   | 65-    | 20-24  | 0      | \n",
       "| 30     |  2     | 1      | 1      | male   | 65-    | 5-9    | 1      | \n",
       "| ... | ... | ... | ... | ... | ... | ... | ... | \n",
       "|  9971  | 10     | 0      | 1      | male   | 65-    | 45-49  | 1      | \n",
       "|  9972  | 22     | 1      | 1      | female | 65-    | 5-9    | 1      | \n",
       "|  9973  | 14     | 1      | 0      | male   | 65+    | 65-69  | 1      | \n",
       "|  9974  | 34     | 1      | 1      | female | 65+    | 65-69  | 1      | \n",
       "|  9975  | 23     | 0      | 0      | female | 65-    | 10-14  | 0      | \n",
       "|  9976  | 35     | 1      | 1      | female | 65+    | 70-74  | 1      | \n",
       "|  9977  | 40     | 1      | 1      | female | 65+    | 95-99  | 1      | \n",
       "|  9978  | 21     | 1      | 0      | female | 65-    | 0-4    | 1      | \n",
       "|  9979  | 19     | 1      | 0      | male   | 65+    | 90-94  | 1      | \n",
       "|  9980  |  5     | 1      | 1      | male   | 65-    | 20-24  | 1      | \n",
       "|  9981  |  3     | 0      | 1      | male   | 65-    | 10-14  | 1      | \n",
       "|  9982  | 40     | 0      | 0      | female | 65+    | 95-99  | 0      | \n",
       "|  9983  | 30     | 0      | 1      | female | 65-    | 45-49  | 1      | \n",
       "|  9984  | 33     | 1      | 1      | female | 65-    | 60-64  | 1      | \n",
       "|  9985  | 33     | 0      | 0      | female | 65-    | 60-64  | 0      | \n",
       "|  9986  | 24     | 1      | 1      | female | 65-    | 15-19  | 1      | \n",
       "|  9987  | 34     | 1      | 1      | female | 65+    | 65-69  | 1      | \n",
       "|  9988  | 25     | 0      | 1      | female | 65-    | 20-24  | 1      | \n",
       "|  9989  |  9     | 0      | 0      | male   | 65-    | 40-44  | 0      | \n",
       "|  9990  |  8     | 1      | 1      | male   | 65-    | 35-39  | 1      | \n",
       "|  9991  | 11     | 1      | 1      | male   | 65-    | 50-54  | 1      | \n",
       "|  9992  | 22     | 1      | 0      | female | 65-    | 5-9    | 1      | \n",
       "|  9993  |  9     | 0      | 1      | male   | 65-    | 40-44  | 1      | \n",
       "|  9994  | 19     | 0      | 0      | male   | 65+    | 90-94  | 0      | \n",
       "|  9995  |  4     | 1      | 1      | male   | 65-    | 15-19  | 1      | \n",
       "|  9996  | 27     | 1      | 1      | female | 65-    | 30-34  | 1      | \n",
       "|  9997  | 27     | 1      | 1      | female | 65-    | 30-34  | 1      | \n",
       "|  9998  | 37     | 1      | 1      | female | 65+    | 80-84  | 1      | \n",
       "|  9999  | 24     | 0      | 0      | female | 65-    | 15-19  | 0      | \n",
       "| 10000  | 29     | 1      | 0      | female | 65-    | 40-44  | 1      | \n",
       "\n",
       "\n"
      ],
      "text/plain": [
       "      ID    Group FKG DKG Gender Elderly Age   Health_status\n",
       "1      1    17    0   0   male   65+     80-84 0            \n",
       "2      2    34    0   0   female 65+     65-69 0            \n",
       "3      3    31    1   0   female 65-     50-54 1            \n",
       "4      4    22    1   0   female 65-     5-9   1            \n",
       "5      5    35    0   0   female 65+     70-74 0            \n",
       "6      6    19    1   1   male   65+     90-94 1            \n",
       "7      7     1    0   1   male   65-     0-4   1            \n",
       "8      8    30    1   1   female 65-     45-49 1            \n",
       "9      9    29    0   0   female 65-     40-44 0            \n",
       "10    10     8    1   1   male   65-     35-39 1            \n",
       "11    11    26    0   1   female 65-     25-29 1            \n",
       "12    12    22    0   0   female 65-     5-9   0            \n",
       "13    13    14    1   0   male   65+     65-69 1            \n",
       "14    14    26    0   0   female 65-     25-29 0            \n",
       "15    15    34    0   0   female 65+     65-69 0            \n",
       "16    16    29    1   1   female 65-     40-44 1            \n",
       "17    17    14    1   1   male   65+     65-69 1            \n",
       "18    18     6    1   0   male   65-     25-29 1            \n",
       "19    19    16    1   1   male   65+     75-79 1            \n",
       "20    20    38    1   1   female 65+     85-89 1            \n",
       "21    21    33    1   1   female 65-     60-64 1            \n",
       "22    22    31    0   1   female 65-     50-54 1            \n",
       "23    23    39    1   1   female 65+     90-94 1            \n",
       "24    24    40    0   0   female 65+     95-99 0            \n",
       "25    25    25    0   0   female 65-     20-24 0            \n",
       "26    26     2    1   1   male   65-     5-9   1            \n",
       "27    27    14    0   0   male   65+     65-69 0            \n",
       "28    28    12    1   1   male   65-     55-59 1            \n",
       "29    29     5    0   0   male   65-     20-24 0            \n",
       "30    30     2    1   1   male   65-     5-9   1            \n",
       "...   ...   ...   ... ... ...    ...     ...   ...          \n",
       "9971   9971 10    0   1   male   65-     45-49 1            \n",
       "9972   9972 22    1   1   female 65-     5-9   1            \n",
       "9973   9973 14    1   0   male   65+     65-69 1            \n",
       "9974   9974 34    1   1   female 65+     65-69 1            \n",
       "9975   9975 23    0   0   female 65-     10-14 0            \n",
       "9976   9976 35    1   1   female 65+     70-74 1            \n",
       "9977   9977 40    1   1   female 65+     95-99 1            \n",
       "9978   9978 21    1   0   female 65-     0-4   1            \n",
       "9979   9979 19    1   0   male   65+     90-94 1            \n",
       "9980   9980  5    1   1   male   65-     20-24 1            \n",
       "9981   9981  3    0   1   male   65-     10-14 1            \n",
       "9982   9982 40    0   0   female 65+     95-99 0            \n",
       "9983   9983 30    0   1   female 65-     45-49 1            \n",
       "9984   9984 33    1   1   female 65-     60-64 1            \n",
       "9985   9985 33    0   0   female 65-     60-64 0            \n",
       "9986   9986 24    1   1   female 65-     15-19 1            \n",
       "9987   9987 34    1   1   female 65+     65-69 1            \n",
       "9988   9988 25    0   1   female 65-     20-24 1            \n",
       "9989   9989  9    0   0   male   65-     40-44 0            \n",
       "9990   9990  8    1   1   male   65-     35-39 1            \n",
       "9991   9991 11    1   1   male   65-     50-54 1            \n",
       "9992   9992 22    1   0   female 65-     5-9   1            \n",
       "9993   9993  9    0   1   male   65-     40-44 1            \n",
       "9994   9994 19    0   0   male   65+     90-94 0            \n",
       "9995   9995  4    1   1   male   65-     15-19 1            \n",
       "9996   9996 27    1   1   female 65-     30-34 1            \n",
       "9997   9997 27    1   1   female 65-     30-34 1            \n",
       "9998   9998 37    1   1   female 65+     80-84 1            \n",
       "9999   9999 24    0   0   female 65-     15-19 0            \n",
       "10000 10000 29    1   0   female 65-     40-44 1            "
      ]
     },
     "metadata": {},
     "output_type": "display_data"
    }
   ],
   "source": [
    "data2 <- data1 %>%\n",
    "\n",
    "#filter(FKG==0,DKG==0)%>%z\n",
    "mutate(Health_status=FKG+DKG,Health_status=replace(Health_status,Health_status=='2','1'))\n",
    "  (data2)"
   ]
  },
  {
   "cell_type": "markdown",
   "metadata": {},
   "source": [
    "In the next datacamp course you will learn more about the package `dplyr`. For now we just give you some code. You can run the following script.\n",
    "\n",
    "First, we want to make \"Health_status\" a factor instead of a character"
   ]
  },
  {
   "cell_type": "code",
   "execution_count": 94,
   "metadata": {},
   "outputs": [
    {
     "name": "stdout",
     "output_type": "stream",
     "text": [
      "'data.frame':\t10000 obs. of  8 variables:\n",
      " $ ID           : int  1 2 3 4 5 6 7 8 9 10 ...\n",
      " $ Group        : int  17 34 31 22 35 19 1 30 29 8 ...\n",
      " $ FKG          : int  0 0 1 1 0 1 0 1 0 1 ...\n",
      " $ DKG          : int  0 0 0 0 0 1 1 1 0 1 ...\n",
      " $ Gender       : Factor w/ 2 levels \"female\",\"male\": 2 1 1 1 1 2 2 1 1 2 ...\n",
      " $ Elderly      : Factor w/ 2 levels \"65-\",\"65+\": 2 2 1 1 2 2 1 1 1 1 ...\n",
      " $ Age          : Factor w/ 20 levels \"0-4\",\"10-14\",..: 17 14 11 10 15 19 1 9 8 7 ...\n",
      " $ Health_status: num  0 0 1 1 0 1 1 1 0 1 ...\n"
     ]
    }
   ],
   "source": [
    "data2 <- data2 %>%\n",
    "  mutate(Health_status = as.numeric(Health_status))\n",
    "str(data2)"
   ]
  },
  {
   "cell_type": "markdown",
   "metadata": {},
   "source": [
    "Then, we want to count the number of healthy and unhealthy males and females"
   ]
  },
  {
   "cell_type": "code",
   "execution_count": 95,
   "metadata": {},
   "outputs": [
    {
     "data": {
      "text/html": [
       "<table>\n",
       "<thead><tr><th scope=col>Gender</th><th scope=col>Health_status</th><th scope=col>Count_observations</th></tr></thead>\n",
       "<tbody>\n",
       "\t<tr><td>female</td><td>0     </td><td>1258  </td></tr>\n",
       "\t<tr><td>female</td><td>1     </td><td>3723  </td></tr>\n",
       "\t<tr><td>male  </td><td>0     </td><td>1285  </td></tr>\n",
       "\t<tr><td>male  </td><td>1     </td><td>3734  </td></tr>\n",
       "</tbody>\n",
       "</table>\n"
      ],
      "text/latex": [
       "\\begin{tabular}{r|lll}\n",
       " Gender & Health\\_status & Count\\_observations\\\\\n",
       "\\hline\n",
       "\t female & 0      & 1258  \\\\\n",
       "\t female & 1      & 3723  \\\\\n",
       "\t male   & 0      & 1285  \\\\\n",
       "\t male   & 1      & 3734  \\\\\n",
       "\\end{tabular}\n"
      ],
      "text/markdown": [
       "\n",
       "Gender | Health_status | Count_observations | \n",
       "|---|---|---|---|\n",
       "| female | 0      | 1258   | \n",
       "| female | 1      | 3723   | \n",
       "| male   | 0      | 1285   | \n",
       "| male   | 1      | 3734   | \n",
       "\n",
       "\n"
      ],
      "text/plain": [
       "  Gender Health_status Count_observations\n",
       "1 female 0             1258              \n",
       "2 female 1             3723              \n",
       "3 male   0             1285              \n",
       "4 male   1             3734              "
      ]
     },
     "metadata": {},
     "output_type": "display_data"
    }
   ],
   "source": [
    "data3 <- data2 %>%\n",
    "  group_by(Gender, Health_status) %>%\n",
    " summarise(Count_observations = n()) %>%\n",
    "  mutate(Health_status=as.factor(Health_status))\n",
    "\n",
    "data3"
   ]
  },
  {
   "cell_type": "markdown",
   "metadata": {},
   "source": [
    "## Assignment 2\n",
    "\n",
    "Recreate with the dataframe \"data3\" the following barchart ![](../Sourcedata/barchart.png)\n",
    "\n",
    "* Hint: see for changing the [legends and colors](http://www.cookbook-r.com/Graphs/Legends_(ggplot2)/)\n",
    "* Hint: the \"green\" color is in fact the color \"greenyellow\"\n",
    "* Hint: see for the [themes](http://ggplot2.tidyverse.org/reference/ggtheme.html): \n",
    "\n"
   ]
  },
  {
   "cell_type": "code",
   "execution_count": 96,
   "metadata": {},
   "outputs": [
    {
     "data": {},
     "metadata": {},
     "output_type": "display_data"
    },
    {
     "data": {
      "image/png": "[encoded data removed]",
      "text/plain": [
       "plot without title"
      ]
     },
     "metadata": {},
     "output_type": "display_data"
    }
   ],
   "source": [
    "data3%>%\n",
    "ggplot(aes(x=Gender,y=Count_observations,fill=Health_status))+geom_bar(position='dodge',stat='identity')"
   ]
  },
  {
   "cell_type": "markdown",
   "metadata": {},
   "source": [
    "End notebook"
   ]
  }
 ],
 "metadata": {
  "anaconda-cloud": {},
  "kernelspec": {
   "display_name": "R",
   "language": "R",
   "name": "ir"
  },
  "language_info": {
   "codemirror_mode": "r",
   "file_extension": ".r",
   "mimetype": "text/x-r-source",
   "name": "R",
   "pygments_lexer": "r",
   "version": "3.4.3"
  }
 },
 "nbformat": 4,
 "nbformat_minor": 1
}
